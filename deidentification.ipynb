{
 "cells": [
  {
   "cell_type": "code",
   "execution_count": 181,
   "metadata": {},
   "outputs": [],
   "source": [
    "import os\n",
    "import pandas as pd\n",
    "import openpyxl"
   ]
  },
  {
   "cell_type": "code",
   "execution_count": 46,
   "metadata": {},
   "outputs": [],
   "source": [
    "def find_cell(sheet, search_value):\n",
    "    # Iterate through all cells in the sheet\n",
    "    for row in sheet.iter_rows():\n",
    "        for cell in row:\n",
    "            if cell.value == search_value:\n",
    "                # Print the address (cell reference) of the cell with the value\n",
    "                print(f\"Cell containing '{search_value}' found at: {cell.coordinate}\")\n",
    "                return cell.coordinate\n",
    "            \n",
    "def find_cell_background_color(sheet, cell_coordinate):\n",
    "    cell = sheet[cell_coordinate]\n",
    "    background_color = cell.fill.start_color.index\n",
    "    return background_color"
   ]
  },
  {
   "cell_type": "code",
   "execution_count": 91,
   "metadata": {},
   "outputs": [
    {
     "name": "stdout",
     "output_type": "stream",
     "text": [
      "data/single_graded/KV/Toxicity_Fistula.xlsx\n",
      "Cell containing 'Fistula (1, 0, -1)' found at: J1\n",
      "data/single_graded/KV/Toxicity_Urgency.xlsx\n",
      "Cell containing 'Urgency (1, 0, -1)' found at: E1\n",
      "data/single_graded/KV/Toxicity_Cystitis.xlsx\n",
      "Cell containing 'Cystitis (1, 0, -1)' found at: D1\n",
      "data/single_graded/KV/Toxicity_Urinary obstruction.xlsx\n",
      "Cell containing 'Urinary obstruction (1, 0, -1)' found at: D1\n",
      "data/single_graded/KV/Toxicity_Urinary frequency.xlsx\n",
      "Cell containing 'Urinary frequency (1, 0, -1)' found at: D1\n",
      "data/single_graded/KV/Toxicity_Dysuria.xlsx\n",
      "Cell containing 'Dysuria (1, 0, -1)' found at: D1\n",
      "data/single_graded/KV/Toxicity_Erectile Dysfunction.xlsx\n",
      "Cell containing 'Erectile Dysfunction (1, 0, -1)' found at: D1\n",
      "data/single_graded/KV/Toxicity_Rectal bleeding.xlsx\n",
      "Cell containing 'Rectal bleeding (1, 0, -1)' found at: E1\n",
      "data/single_graded/KV/Toxicity_Stricture.xlsx\n",
      "Cell containing 'Stricture (1, 0, -1)' found at: D1\n",
      "data/single_graded/KV/Toxicity_Nocturia.xlsx\n",
      "Cell containing 'Nocturia (1, 0, -1)' found at: D1\n",
      "data/single_graded/KV/Toxicity_Proctitis.xlsx\n",
      "Cell containing 'Proctitis (1, 0, -1)' found at: D1\n",
      "data/single_graded/RH/Toxicity_Fistula.xlsx\n",
      "Cell containing 'Fistula (1, 0, -1)' found at: C1\n",
      "data/single_graded/RH/Toxicity_Hematuria.xlsx\n",
      "Cell containing 'Hematuria (1, 0, -1)' found at: B1\n",
      "data/single_graded/RH/Toxicity_Urothelial carcinoma.xlsx\n",
      "Cell containing 'Urothelial carcinoma (1, 0, -1)' found at: C1\n",
      "data/single_graded/RH/Toxicity_Urinary retention.xlsx\n",
      "Cell containing 'Urinary retention (1, 0, -1)' found at: C1\n",
      "data/single_graded/RH/Toxicity_Rectal ulcer.xlsx\n",
      "Cell containing 'Rectal ulcer (1, 0, -1)' found at: C1\n",
      "data/single_graded/RH/Toxicity_Incontinence.xlsx\n",
      "Cell containing 'Incontinence (1, 0, -1)' found at: C1\n",
      "data/single_graded/RH/Toxicity_Secondary malignancy.xlsx\n",
      "Cell containing 'Secondary malignancy (1, 0, -1)' found at: C1\n"
     ]
    }
   ],
   "source": [
    "single_graded_address = 'data/single_graded/'\n",
    "graders = ['KV', 'RH']\n",
    "\n",
    "files = {}\n",
    "for grader in graders:\n",
    "    files[grader] = {}\n",
    "    for file in os.listdir(single_graded_address + grader):\n",
    "        if file.endswith(\".xlsx\"):\n",
    "            print(os.path.join(single_graded_address + grader, file))\n",
    "            toxicity = file.split('.')[0].split('_')[1]\n",
    "            excel_path = os.path.join(single_graded_address + grader, file)\n",
    "            files[grader][toxicity] = pd.read_excel(excel_path, sheet_name='Toxicity grading')\n",
    "            \n",
    "            workbook = openpyxl.load_workbook(excel_path)\n",
    "            sheet = workbook['Toxicity grading']\n",
    "            toxicity_cell_name = toxicity + ' (1, 0, -1)'\n",
    "            toxicity_column = find_cell(sheet, toxicity_cell_name)[0]\n",
    "\n",
    "            toxicity_column_background_color = []\n",
    "            for row in range(2, files[grader][toxicity].shape[0] + 2):\n",
    "                cell_coordinate = toxicity_column + str(row)\n",
    "                background_color = find_cell_background_color(sheet, cell_coordinate)\n",
    "                toxicity_column_background_color.append(background_color)\n",
    "\n",
    "            files[grader][toxicity]['toxicity_background_color'] = toxicity_column_background_color"
   ]
  },
  {
   "cell_type": "code",
   "execution_count": 92,
   "metadata": {},
   "outputs": [
    {
     "data": {
      "text/plain": [
       "dict_keys(['Fistula', 'Urgency', 'Cystitis', 'Urinary obstruction', 'Urinary frequency', 'Dysuria', 'Erectile Dysfunction', 'Rectal bleeding', 'Stricture', 'Nocturia', 'Proctitis'])"
      ]
     },
     "execution_count": 92,
     "metadata": {},
     "output_type": "execute_result"
    }
   ],
   "source": [
    "files['KV'].keys()"
   ]
  },
  {
   "cell_type": "code",
   "execution_count": 93,
   "metadata": {},
   "outputs": [
    {
     "data": {
      "text/plain": [
       "Index([                           2,                          nan,\n",
       "                       'Unnamed: 2',                 'Unnamed: 3',\n",
       "                              'MRN',                 'Unnamed: 5',\n",
       "                            'MRN.1',                'NOTE_CSN_ID',\n",
       "          'Word Present (1, 0, -1)',         'Fistula (1, 0, -1)',\n",
       "             'RT caused (1, 0, -1)',                  'NOTE_TEXT',\n",
       "                          'N_LINES',          'CONTACT_DATE_REAL',\n",
       "                     'CONTACT_DATE',             'CM_CT_OWNER_ID',\n",
       "                   'CHRON_ITEM_NUM',             'IS_ARCHIVED_YN',\n",
       "                          'NOTE_ID',             'IP_NOTE_TYPE_C',\n",
       "                        'NOTE_TYPE',        'CRT_INST_LOCAL_DTTM',\n",
       "               'SPEC_TIME_LOC_DTTM',            'FIRST_AUTHOR_ID',\n",
       "                'FIRST_AUTHOR_NAME',          'FIRST_AUTHOR_TYPE',\n",
       "         'FIRST_AUTHOR_SPECIALTY_C',     'FIRST_AUTHOR_SPECIALTY',\n",
       "                'CURRENT_AUTHOR_ID',        'CURRENT_AUTHOR_NAME',\n",
       "              'CURRENT_AUTHOR_TYPE', 'CURRENT_AUTHOR_SPECIALTY_C',\n",
       "         'CURRENT_AUTHOR_SPECIALTY',              'COSIGNUSER_ID',\n",
       "                    'COSIGNER_NAME',         'COSIGNER_PROV_TYPE',\n",
       "             'COSIGNER_SPECIALTY_C',         'COSIGNER_SPECIALTY',\n",
       "         'LAST_COSIGN_INSTANT_DTTM',              'NOTE_STATUS_C',\n",
       "                      'NOTE_STATUS',          'COSIGN_REQUIRED_C',\n",
       "                  'COSIGN_REQUIRED',           'NOTE_ATTESTED_YN',\n",
       "                     'DICTATION_YN',      'AWAITING_DICTATION_YN',\n",
       "                  'FIRST_SIGN_TIME',        'FIRST_COMPLETE_TIME',\n",
       "                      'COMPLETE_YN',        'LST_FILED_INST_DTTM',\n",
       "                   'PAT_ENC_CSN_ID',            'ADT_PAT_CLASS_C',\n",
       "                    'ADT_PAT_CLASS',                     'PAT_ID',\n",
       "                       'PAT_MRN_ID',                   'PAT_NAME',\n",
       "                 'SPEC_TIME_DEP_ID',         'SPEC_TIME_DEP_NAME',\n",
       "                'ADT_BED_LABEL_WID',                   'ORDER_ID',\n",
       "                       'ORDER_INST',             'ORDER_STATUS_C',\n",
       "                     'ORDER_STATUS',               'ORDER_TYPE_C',\n",
       "                       'ORDER_TYPE',          'CNT_LINKED_ORDERS',\n",
       "                    'EXT_INTERF_ID',               'PROFILE_NAME',\n",
       "                    'CHILD_NOTE_ID',            'CNT_CHILD_NOTES',\n",
       "              'NOTEWRITER_TEMPLATE',       'FIRST_AUTHOR_LICENSE',\n",
       "           'CURRENT_AUTHOR_LICENSE',           'COSIGNER_LICENSE',\n",
       "                   'TRN_DOC_TYPE_C',    'EXT_INTERFACED_DOC_NAME',\n",
       "                        'Proctitis',            'Rectal bleeding',\n",
       "                          'Fistula',                   'Cystitis',\n",
       "                        'Hematuria',               'Incontinence',\n",
       "             'Erectile dysfunction',                  'Stricture',\n",
       "                          'Urgency',          'Urinary retention',\n",
       "              'Urinary obstruction',      'Premature ejaculation',\n",
       "             'Secondary malignancy',       'Urothelial carcinoma',\n",
       "                'Urinary frequency',                    'Dysuria',\n",
       "                     'Rectal ulcer',             'Mucous leakage',\n",
       "           'Bladder telangiectasia',                   'Nocturia',\n",
       "                              'Sum',  'toxicity_background_color'],\n",
       "      dtype='object')"
      ]
     },
     "execution_count": 93,
     "metadata": {},
     "output_type": "execute_result"
    }
   ],
   "source": [
    "files['KV']['Fistula'].columns"
   ]
  },
  {
   "cell_type": "code",
   "execution_count": 94,
   "metadata": {},
   "outputs": [
    {
     "name": "stdout",
     "output_type": "stream",
     "text": [
      "KV Fistula\n",
      "KV Urgency\n",
      "KV Cystitis\n",
      "KV Urinary obstruction\n",
      "KV Urinary frequency\n",
      "KV Dysuria\n",
      "KV Erectile Dysfunction\n",
      "KV Rectal bleeding\n",
      "KV Stricture\n",
      "KV Nocturia\n",
      "KV Proctitis\n",
      "RH Fistula\n",
      "RH Hematuria\n",
      "RH Urothelial carcinoma\n",
      "RH Urinary retention\n",
      "RH Rectal ulcer\n",
      "RH Incontinence\n",
      "RH Secondary malignancy\n"
     ]
    }
   ],
   "source": [
    "for grader in graders:\n",
    "    for toxicity in files[grader]:\n",
    "        print(grader, toxicity)\n",
    "        files[grader][toxicity] = files[grader][toxicity][['MRN', toxicity + ' (1, 0, -1)', 'NOTE_TEXT', 'toxicity_background_color']]\n",
    "        files[grader][toxicity]['toxicity_background_color'] = files[grader][toxicity]['toxicity_background_color'] == 'FF00B050'\n",
    "        files[grader][toxicity] = files[grader][toxicity][files[grader][toxicity]['toxicity_background_color']]"
   ]
  },
  {
   "cell_type": "code",
   "execution_count": 95,
   "metadata": {},
   "outputs": [
    {
     "data": {
      "text/html": [
       "<div>\n",
       "<style scoped>\n",
       "    .dataframe tbody tr th:only-of-type {\n",
       "        vertical-align: middle;\n",
       "    }\n",
       "\n",
       "    .dataframe tbody tr th {\n",
       "        vertical-align: top;\n",
       "    }\n",
       "\n",
       "    .dataframe thead th {\n",
       "        text-align: right;\n",
       "    }\n",
       "</style>\n",
       "<table border=\"1\" class=\"dataframe\">\n",
       "  <thead>\n",
       "    <tr style=\"text-align: right;\">\n",
       "      <th></th>\n",
       "      <th>MRN</th>\n",
       "      <th>Fistula (1, 0, -1)</th>\n",
       "      <th>NOTE_TEXT</th>\n",
       "      <th>toxicity_background_color</th>\n",
       "    </tr>\n",
       "  </thead>\n",
       "  <tbody>\n",
       "    <tr>\n",
       "      <th>0</th>\n",
       "      <td>NaN</td>\n",
       "      <td>0</td>\n",
       "      <td>SURGICAL INTENSIVE CARE UNIT   PROGRESS NOTE...</td>\n",
       "      <td>True</td>\n",
       "    </tr>\n",
       "    <tr>\n",
       "      <th>2</th>\n",
       "      <td>NaN</td>\n",
       "      <td>0</td>\n",
       "      <td>SURGICAL INTENSIVE CARE UNIT   PROGRESS NOTE...</td>\n",
       "      <td>True</td>\n",
       "    </tr>\n",
       "    <tr>\n",
       "      <th>4</th>\n",
       "      <td>NaN</td>\n",
       "      <td>0</td>\n",
       "      <td>SURGICAL INTENSIVE CARE UNIT   PROGRESS NOTE...</td>\n",
       "      <td>True</td>\n",
       "    </tr>\n",
       "    <tr>\n",
       "      <th>5</th>\n",
       "      <td>NaN</td>\n",
       "      <td>0</td>\n",
       "      <td>* Bowel perforation (CMS-hcc)  Assessment &amp; Pl...</td>\n",
       "      <td>True</td>\n",
       "    </tr>\n",
       "    <tr>\n",
       "      <th>6</th>\n",
       "      <td>NaN</td>\n",
       "      <td>0</td>\n",
       "      <td>* Bowel perforation (CMS-hcc)  Assessment &amp; Pl...</td>\n",
       "      <td>True</td>\n",
       "    </tr>\n",
       "    <tr>\n",
       "      <th>7</th>\n",
       "      <td>NaN</td>\n",
       "      <td>0</td>\n",
       "      <td>* Bowel perforation (CMS-hcc)  Assessment &amp; Pl...</td>\n",
       "      <td>True</td>\n",
       "    </tr>\n",
       "    <tr>\n",
       "      <th>8</th>\n",
       "      <td>NaN</td>\n",
       "      <td>0</td>\n",
       "      <td>* Bowel perforation (CMS-hcc)  Assessment &amp; Pl...</td>\n",
       "      <td>True</td>\n",
       "    </tr>\n",
       "    <tr>\n",
       "      <th>11</th>\n",
       "      <td>NaN</td>\n",
       "      <td>0</td>\n",
       "      <td>* Bowel perforation (CMS-hcc)  Assessment &amp; Pl...</td>\n",
       "      <td>True</td>\n",
       "    </tr>\n",
       "    <tr>\n",
       "      <th>12</th>\n",
       "      <td>NaN</td>\n",
       "      <td>0</td>\n",
       "      <td>* Bowel perforation (CMS-hcc)  Assessment &amp; Pl...</td>\n",
       "      <td>True</td>\n",
       "    </tr>\n",
       "    <tr>\n",
       "      <th>14</th>\n",
       "      <td>NaN</td>\n",
       "      <td>0</td>\n",
       "      <td>PCP: STEVEN HABBEL, MD    I had the pleasure o...</td>\n",
       "      <td>True</td>\n",
       "    </tr>\n",
       "  </tbody>\n",
       "</table>\n",
       "</div>"
      ],
      "text/plain": [
       "    MRN  Fistula (1, 0, -1)  \\\n",
       "0   NaN                   0   \n",
       "2   NaN                   0   \n",
       "4   NaN                   0   \n",
       "5   NaN                   0   \n",
       "6   NaN                   0   \n",
       "7   NaN                   0   \n",
       "8   NaN                   0   \n",
       "11  NaN                   0   \n",
       "12  NaN                   0   \n",
       "14  NaN                   0   \n",
       "\n",
       "                                            NOTE_TEXT  \\\n",
       "0     SURGICAL INTENSIVE CARE UNIT   PROGRESS NOTE...   \n",
       "2     SURGICAL INTENSIVE CARE UNIT   PROGRESS NOTE...   \n",
       "4     SURGICAL INTENSIVE CARE UNIT   PROGRESS NOTE...   \n",
       "5   * Bowel perforation (CMS-hcc)  Assessment & Pl...   \n",
       "6   * Bowel perforation (CMS-hcc)  Assessment & Pl...   \n",
       "7   * Bowel perforation (CMS-hcc)  Assessment & Pl...   \n",
       "8   * Bowel perforation (CMS-hcc)  Assessment & Pl...   \n",
       "11  * Bowel perforation (CMS-hcc)  Assessment & Pl...   \n",
       "12  * Bowel perforation (CMS-hcc)  Assessment & Pl...   \n",
       "14  PCP: STEVEN HABBEL, MD    I had the pleasure o...   \n",
       "\n",
       "    toxicity_background_color  \n",
       "0                        True  \n",
       "2                        True  \n",
       "4                        True  \n",
       "5                        True  \n",
       "6                        True  \n",
       "7                        True  \n",
       "8                        True  \n",
       "11                       True  \n",
       "12                       True  \n",
       "14                       True  "
      ]
     },
     "execution_count": 95,
     "metadata": {},
     "output_type": "execute_result"
    }
   ],
   "source": [
    "files['KV']['Fistula'].head(10)"
   ]
  },
  {
   "cell_type": "code",
   "execution_count": 96,
   "metadata": {},
   "outputs": [
    {
     "name": "stdout",
     "output_type": "stream",
     "text": [
      "KV\n",
      "Fistula 25\n",
      "Urgency 25\n",
      "Cystitis 25\n",
      "Urinary obstruction 25\n",
      "Urinary frequency 25\n",
      "Dysuria 25\n",
      "Erectile Dysfunction 25\n",
      "Rectal bleeding 25\n",
      "Stricture 25\n",
      "Nocturia 25\n",
      "Proctitis 25\n",
      "RH\n",
      "Fistula 25\n",
      "Hematuria 25\n",
      "Urothelial carcinoma 19\n",
      "Urinary retention 25\n",
      "Rectal ulcer 0\n",
      "Incontinence 25\n",
      "Secondary malignancy 0\n"
     ]
    }
   ],
   "source": [
    "# now tell me per grader, how many many notes do they have per toxicity\n",
    "for grader in graders:\n",
    "    print(grader)\n",
    "    for toxicity in files[grader]:\n",
    "        print(toxicity, files[grader][toxicity].shape[0])"
   ]
  },
  {
   "cell_type": "code",
   "execution_count": 97,
   "metadata": {},
   "outputs": [
    {
     "name": "stdout",
     "output_type": "stream",
     "text": [
      "RH Rectal ulcer\n",
      "RH Secondary malignancy\n",
      "... were removed\n"
     ]
    }
   ],
   "source": [
    "# remove the toxicities that have 0 notes\n",
    "# Create a list of items to remove\n",
    "to_remove = []\n",
    "\n",
    "# Iterate over graders and toxicities\n",
    "for grader in graders:\n",
    "    for toxicity in files[grader]:\n",
    "        if files[grader][toxicity].shape[0] == 0:\n",
    "            print(grader, toxicity)\n",
    "            to_remove.append((grader, toxicity))\n",
    "\n",
    "# Remove the items after the iteration\n",
    "for grader, toxicity in to_remove:\n",
    "    del files[grader][toxicity]\n",
    "print('... were removed')"
   ]
  },
  {
   "cell_type": "code",
   "execution_count": 100,
   "metadata": {},
   "outputs": [
    {
     "data": {
      "text/plain": [
       "(4,)"
      ]
     },
     "execution_count": 100,
     "metadata": {},
     "output_type": "execute_result"
    }
   ],
   "source": [
    "#read a .npy file with the address random_mrns/all_notes.npy\n",
    "import numpy as np\n",
    "all_notes = np.load('random_mrns/all_notes.npy')\n",
    "all_notes.shape"
   ]
  },
  {
   "cell_type": "code",
   "execution_count": 106,
   "metadata": {},
   "outputs": [
    {
     "data": {
      "text/plain": [
       "'Patient on schedule for injection today.  Medication administered: eligard 45mg given in right abdomen above pant line  Dressing applied to injection site.  Patient tolerated well.   Return visit confirmed.    \\n  Received lab result for a PSA from 4/7/2022    PSA<0.008 NG/ML  \\nUROLOGY CLINIC RETURN VISIT    Chief Complaint:  (N52.31) Erectile dysfunction after radical prostatectomy    Referring Provider:  Referral, Self    Subjective:      Carl Stoller is a 75 y.o. male, presents to the office today for a follow up regarding ED post prostatectomy. He is s/p prostatectomy 3/29/21 and then had biochemical recurrence which was treated with radiation and elligard. He reports problem with erections. He is still very active, plays senior senior pga. He has not tried any medications for ED. HE reports prior to surgery and radiation no problems. Last PSA 0.008. Last shot of elligard was in November 2021.    Currently the patient has no fever, chills, nausea, vomiting, or other signs/symptoms of acute systemic infection.    PMH  Past Medical History:   Diagnosis Date   • Continuous positive airway pressure dependence    • Hypertension    • Prostate cancer (CMS-hcc)    • Sleep apnea      FAMHx  Family History   Problem Relation Age of Onset   • Lung cancer Mother    • Brain cancer Father    • Diabetes Sister    • Diabetes Brother    • Stroke Paternal Grandfather      ALLERGY  No Known Allergies  MEDICATIONS  has a current medication list which includes the following prescription(s): aspirin, losartan-hydrochlorothiazide, acetaminophen, omeprazole, oxycodone, UNABLE TO FIND, and UNABLE TO FIND.  ROS:  Constitutional: negative  Eyes: negative  Ears/Nose/Throat/Mouth: negative  Respiratory: negative  Cardiovascular: negative  Gastrointestinal: negative  Genito-Urinary: as documented above in HPI  Musculoskeletal: negative  Neurological: negative  Integumentary: negative      Objective:     Visit Vitals  BP (!) 171/87 (BP Location: Right upper arm, Patient Position: Sitting, Cuff Size: 4 - Adult)   Pulse 63   Temp 36.5 °C (97.7 °F) (Oral)   Ht 1.778 m (5\\' 10\")   Wt 103.9 kg (229 lb 1.6 oz)   BMI 32.87 kg/m²   Smoking Status Never Smoker   BSA 2.21 m²      Physical Exam:  GENERAL: Patient is AOx3, in no acute distress  CARDIAC: regular rate and rhythm  LUNG: no use of accessory muscles, no respiratory distress  ABD: soft, nondistended  GU: normal circumcised phallus, testes descended bilaterally    LABORATORY:  Creatinine   Date Value Ref Range Status   06/17/2021 0.91 <1.28 mg/dL Final     Comment:     IDMS Standardized.   03/09/2021 1.13 (H) <1.13 mg/dL Final     Comment:     IDMS Standardized.     Lab Results   Component Value Date    PSA 0.2 09/14/2021    PSA 0.2 08/02/2021    PSA 0.1 06/17/2021    PSA 0.2 05/14/2021       Assessment:      Carl Stoller is a 75 y.o. male with erectile dysfunction.      Plan:     We discussed the pathophysiology of erectile dysfunction and the potential causes including psychogenic, neurogenic, vasculogenic, endocrine, and iatrogenic causes. We discussed the different treatment options including PDE 5 inhibitors, vacuum erection device, intraurethral suppository, intracavernosal injection therapy, and penile implants. We discussed the risks and benefits of each and potential side effects of treatment.   PDE 5 inhibitors: headaches, stuffy nose, visual disturbances, myalgias, heartburn, priapism. He was given instructions to take the medications 1-3 hrs prior to sexual activity and on an empty stomach  VED: pain, bruising, hematoma, numbness  Intraurethral suppository: pain, urethral burning, light headedness, priapism  Intracavernosal injection: pain, bruising, priapism, build up of scar tissue  IPP: pain, infection bleeding, injury to surrounding structures, possible revision surgery, possible anesthetic complications, possible device failure, possible erosion    After a thorough discussion of treatment options he would like to proceed with checking a hormone profile to check recovery of hormone function after elligard and trial of tadalafil. If tadalafil does not work consider ICI. Discussed side effects and he would like to proceed.    Total visit time 30 mins including charting and coordination of care.      \\nUROLOGY CLINIC RETURN VISIT    Chief Complaint:  (N52.31) Erectile dysfunction after radical prostatectomy    Referring Provider:  Referral, Self    Subjective:      Carl Stoller is a 75 y.o. male, presents to the office today for a follow up regarding ED post prostatectomy. He is s/p prostatectomy 3/29/21 and then had biochemical recurrence which was treated with radiation and elligard. He reports problem with erections. He is still very active, plays senior senior pga. He has not tried any medications for ED. HE reports prior to surgery and radiation no problems. Last PSA 0.008. Last shot of elligard was in November 2021.    Currently the patient has no fever, chills, nausea, vomiting, or other signs/symptoms of acute systemic infection.    PMH  Past Medical History:   Diagnosis Date   • Continuous positive airway pressure dependence    • Hypertension    • Prostate cancer (CMS-hcc)    • Sleep apnea      FAMHx  Family History   Problem Relation Age of Onset   • Lung cancer Mother    • Brain cancer Father    • Diabetes Sister    • Diabetes Brother    • Stroke Paternal Grandfather      ALLERGY  No Known Allergies  MEDICATIONS  has a current medication list which includes the following prescription(s): aspirin, losartan-hydrochlorothiazide, acetaminophen, omeprazole, oxycodone, UNABLE TO FIND, and UNABLE TO FIND.  ROS:  Constitutional: negative  Eyes: negative  Ears/Nose/Throat/Mouth: negative  Respiratory: negative  Cardiovascular: negative  Gastrointestinal: negative  Genito-Urinary: as documented above in HPI  Musculoskeletal: negative  Neurological: negative  Integumentary: negative      Objective:     Visit Vitals  BP (!) 171/87 (BP Location: Right upper arm, Patient Position: Sitting, Cuff Size: 4 - Adult)   Pulse 63   Temp 36.5 °C (97.7 °F) (Oral)   Ht 1.778 m (5\\' 10\")   Wt 103.9 kg (229 lb 1.6 oz)   BMI 32.87 kg/m²   Smoking Status Never Smoker   BSA 2.21 m²      Physical Exam:  GENERAL: Patient is AOx3, in no acute distress  CARDIAC: regular rate and rhythm  LUNG: no use of accessory muscles, no respiratory distress  ABD: soft, nondistended  GU: normal circumcised phallus, testes descended bilaterally    LABORATORY:  Creatinine   Date Value Ref Range Status   06/17/2021 0.91 <1.28 mg/dL Final     Comment:     IDMS Standardized.   03/09/2021 1.13 (H) <1.13 mg/dL Final     Comment:     IDMS Standardized.     Lab Results   Component Value Date    PSA 0.2 09/14/2021    PSA 0.2 08/02/2021    PSA 0.1 06/17/2021    PSA 0.2 05/14/2021       Assessment:      Carl Stoller is a 75 y.o. male with erectile dysfunction.      Plan:     We discussed the pathophysiology of erectile dysfunction and the potential causes including psychogenic, neurogenic, vasculogenic, endocrine, and iatrogenic causes. We discussed the different treatment options including PDE 5 inhibitors, vacuum erection device, intraurethral suppository, intracavernosal injection therapy, and penile implants. We discussed the risks and benefits of each and potential side effects of treatment.   PDE 5 inhibitors: headaches, stuffy nose, visual disturbances, myalgias, heartburn, priapism. He was given instructions to take the medications 1-3 hrs prior to sexual activity and on an empty stomach  VED: pain, bruising, hematoma, numbness  Intraurethral suppository: pain, urethral burning, light headedness, priapism  Intracavernosal injection: pain, bruising, priapism, build up of scar tissue  IPP: pain, infection bleeding, injury to surrounding structures, possible revision surgery, possible anesthetic complications, possible device failure, possible erosion    After a thorough discussion of treatment options he would like to proceed with checking a hormone profile to check recovery of hormone function after elligard and trial of tadalafil. If tadalafil does not work consider ICI. Discussed side effects and he would like to proceed.    Total visit time 30 mins including charting and coordination of care.      \\nUROLOGY CLINIC RETURN VISIT    Chief Complaint:  (N52.31) Erectile dysfunction after radical prostatectomy    Referring Provider:  Referral, Self    Subjective:      Carl Stoller is a 75 y.o. male, presents to the office today for a follow up regarding ED post prostatectomy. He is s/p prostatectomy 3/29/21 and then had biochemical recurrence which was treated with radiation and elligard. He reports problem with erections. He is still very active, plays senior senior pga. He has not tried any medications for ED. HE reports prior to surgery and radiation no problems. Last PSA 0.008. Last shot of elligard was in November 2021.    Currently the patient has no fever, chills, nausea, vomiting, or other signs/symptoms of acute systemic infection.    PMH  Past Medical History:   Diagnosis Date   • Continuous positive airway pressure dependence    • Hypertension    • Prostate cancer (CMS-hcc)    • Sleep apnea      FAMHx  Family History   Problem Relation Age of Onset   • Lung cancer Mother    • Brain cancer Father    • Diabetes Sister    • Diabetes Brother    • Stroke Paternal Grandfather      ALLERGY  No Known Allergies  MEDICATIONS  has a current medication list which includes the following prescription(s): aspirin, losartan-hydrochlorothiazide, acetaminophen, omeprazole, oxycodone, UNABLE TO FIND, and UNABLE TO FIND.  ROS:  Constitutional: negative  Eyes: negative  Ears/Nose/Throat/Mouth: negative  Respiratory: negative  Cardiovascular: negative  Gastrointestinal: negative  Genito-Urinary: as documented above in HPI  Musculoskeletal: negative  Neurological: negative  Integumentary: negative      Objective:     Visit Vitals  BP (!) 171/87 (BP Location: Right upper arm, Patient Position: Sitting, Cuff Size: 4 - Adult)   Pulse 63   Temp 36.5 °C (97.7 °F) (Oral)   Ht 1.778 m (5\\' 10\")   Wt 103.9 kg (229 lb 1.6 oz)   BMI 32.87 kg/m²   Smoking Status Never Smoker   BSA 2.21 m²      Physical Exam:  GENERAL: Patient is AOx3, in no acute distress  CARDIAC: regular rate and rhythm  LUNG: no use of accessory muscles, no respiratory distress  ABD: soft, nondistended  GU: normal circumcised phallus, testes descended bilaterally    LABORATORY:  Creatinine   Date Value Ref Range Status   06/17/2021 0.91 <1.28 mg/dL Final     Comment:     IDMS Standardized.   03/09/2021 1.13 (H) <1.13 mg/dL Final     Comment:     IDMS Standardized.     Lab Results   Component Value Date    PSA 0.2 09/14/2021    PSA 0.2 08/02/2021    PSA 0.1 06/17/2021    PSA 0.2 05/14/2021       Assessment:      Carl Stoller is a 75 y.o. male with erectile dysfunction.      Plan:     We discussed the pathophysiology of erectile dysfunction and the potential causes including psychogenic, neurogenic, vasculogenic, endocrine, and iatrogenic causes. We discussed the different treatment options including PDE 5 inhibitors, vacuum erection device, intraurethral suppository, intracavernosal injection therapy, and penile implants. We discussed the risks and benefits of each and potential side effects of treatment.   PDE 5 inhibitors: headaches, stuffy nose, visual disturbances, myalgias, heartburn, priapism. He was given instructions to take the medications 1-3 hrs prior to sexual activity and on an empty stomach  VED: pain, bruising, hematoma, numbness  Intraurethral suppository: pain, urethral burning, light headedness, priapism  Intracavernosal injection: pain, bruising, priapism, build up of scar tissue  IPP: pain, infection bleeding, injury to surrounding structures, possible revision surgery, possible anesthetic complications, possible device failure, possible erosion    After a thorough discussion of treatment options he would like to proceed with checking a hormone profile to check recovery of hormone function after elligard and trial of tadalafil. If tadalafil does not work consider ICI. Discussed side effects and he would like to proceed.    Total visit time 30 mins including charting and coordination of care.      \\nRadiation Oncology Office Note  Diagnosis/Treatment History: Mr. Stoller is a 75 y.o. male with prostate adenocarcinoma (T1c, Gleason score 6 , initial PSA 6.7 ng/ml) diagnosed in 2018 and was on active surveillance. His PSA continued to rise to 21.6 ng/ml on 11/04/2020 and he underwent repeat MRI in 12/2020 that showed disease progression. Repeat prostate biopsy on 2/23/2021 showed Gleason score 9. He underwent a  radical prostatectomy on 3/29/2021 for pT3aN0, bladder neck invasion, Gleason 9 disease and positive margins. His PSA was first detectable to 0.1 on 6/17/2021 and more recently it is 0.2 ng/ml on 9/14/2021. He is s/p 45 mg of Eligard on 11/8/2021. He is now s/p a course of salvage RT in the form of 68 Gy in 34 Fx to the prostate bed (completed on 12/17/21).    Interval History: Mr. Stoller returns for follow up at this time approx. 1 year from completion of RT. He admits to ***    Labs:  Lab Results   Component Value Date/Time    PSA <0.1 12/19/2022 08:52 AM    PSA <0.1 08/08/2022 11:57 AM    PSA <0.1 05/27/2022 09:06 AM    PSA 0.2 09/14/2021 09:28 AM    PSA 0.2 08/02/2021 01:21 PM    PSA 0.1 06/17/2021 10:38 AM    PSA 0.2 05/14/2021 01:25 PM        Lab Results   Component Value Date/Time    TESTOSTERONE <10 (L) 08/08/2022 11:57 AM    TESTOSTERONE 12 (L) 05/27/2022 09:06 AM          Physical Examination:   VITAL SIGNS:   Visit Vitals  Smoking Status Never     ECOG= ***  CONSTITUTIONAL: Well developed, well nourished male, who looks their stated age of 75 y.o..  No acute distress noted.   HEENT: Head is normocephalic and atraumatic. EOMI, sclera anicteric, moist mucous membranes, no cervical or supraclavicular LAD  CARDIAC: Regular rate and rhythm.  Normal S1, S2.  No murmurs, rubs or gallops.  PULMONARY/CHEST:  Lungs are clear to auscultation bilaterally.  No wheezes, rhonchi or rales noted.  ABDOMINAL:  Abdomen soft, non-tender, non-distended.  No organomegaly.  Normoactive bowel sounds in all four quadrants. No guarding or rebound tenderness.  BACK: Spine non-tender to percussion  SKIN: Skin is warm and dry. No rashes or lesions noted  NEUROLOGIC EXAM: Alert and oriented x 3.  Non-focal exam  PSYCHIATRIC:  Appropriate mood and affect for his clinical situation.    Assessment: Mr. Stoller is a 75 y.o. male with prostate adenocarcinoma (T1c, Gleason score 6 , initial PSA 6.7 ng/ml) diagnosed in 2018 and was on active surveillance. His PSA continued to rise to 21.6 ng/ml on 11/04/2020 and he underwent repeat MRI in 12/2020 that showed disease progression. Repeat prostate biopsy on 2/23/2021 showed Gleason score 9. He underwent a  radical prostatectomy on 3/29/2021 for pT3aN0, bladder neck invasion, Gleason 9 disease and positive margins. His PSA was first detectable to 0.1 on 6/17/2021 and more recently it is 0.2 ng/ml on 9/14/2021. He is s/p 45 mg of Eligard on 11/8/2021. He is now s/p a course of salvage RT in the form of 68 Gy in 34 Fx to the prostate bed (completed on 12/17/21).    Plan:   -We will have Mr. Stoller follow-up in 6*** months with a PSA lab draw*** at that time.  -Continue to follow with PCP and other specialties as scheduled/discussed    OTHER GENERAL MEDICAL CONSIDERATIONS  --- Pt was instructed to follow-up with PCP and/or any pertinent specialist(s) for any of the following diagnoses not detailed elsewhere in the note:    No diagnosis found.        \\nRadiation Oncology Office Note  Diagnosis/Treatment History: Mr. Stoller is a 75 y.o. male with prostate adenocarcinoma (T1c, Gleason score 6 , initial PSA 6.7 ng/ml) diagnosed in 2018 and was on active surveillance. His PSA continued to rise to 21.6 ng/ml on 11/04/2020 and he underwent repeat MRI in 12/2020 that showed disease progression. Repeat prostate biopsy on 2/23/2021 showed Gleason score 9. He underwent a  radical prostatectomy on 3/29/2021 for pT3aN0, bladder neck invasion, Gleason 9 disease and positive margins. His PSA was first detectable to 0.1 on 6/17/2021 and more recently it is 0.2 ng/ml on 9/14/2021. He is s/p 45 mg of Eligard on 11/8/2021. He is now s/p a course of salvage RT in the form of 68 Gy in 34 Fx to the prostate bed (completed on 12/17/21).    Interval History: Mr. Stoller returns for follow up at this time approx. 1 year from completion of RT. He admits to ***    Labs:  Lab Results   Component Value Date/Time    PSA <0.1 12/19/2022 08:52 AM    PSA <0.1 08/08/2022 11:57 AM    PSA <0.1 05/27/2022 09:06 AM    PSA 0.2 09/14/2021 09:28 AM    PSA 0.2 08/02/2021 01:21 PM    PSA 0.1 06/17/2021 10:38 AM    PSA 0.2 05/14/2021 01:25 PM        Lab Results   Component Value Date/Time    TESTOSTERONE <10 (L) 08/08/2022 11:57 AM    TESTOSTERONE 12 (L) 05/27/2022 09:06 AM          Physical Examination:   VITAL SIGNS:   Visit Vitals  Smoking Status Never     ECOG= ***  CONSTITUTIONAL: Well developed, well nourished male, who looks their stated age of 75 y.o..  No acute distress noted.   HEENT: Head is normocephalic and atraumatic. EOMI, sclera anicteric, moist mucous membranes, no cervical or supraclavicular LAD  CARDIAC: Regular rate and rhythm.  Normal S1, S2.  No murmurs, rubs or gallops.  PULMONARY/CHEST:  Lungs are clear to auscultation bilaterally.  No wheezes, rhonchi or rales noted.  ABDOMINAL:  Abdomen soft, non-tender, non-distended.  No organomegaly.  Normoactive bowel sounds in all four quadrants. No guarding or rebound tenderness.  BACK: Spine non-tender to percussion  SKIN: Skin is warm and dry. No rashes or lesions noted  NEUROLOGIC EXAM: Alert and oriented x 3.  Non-focal exam  PSYCHIATRIC:  Appropriate mood and affect for his clinical situation.    Assessment: Mr. Stoller is a 75 y.o. male with prostate adenocarcinoma (T1c, Gleason score 6 , initial PSA 6.7 ng/ml) diagnosed in 2018 and was on active surveillance. His PSA continued to rise to 21.6 ng/ml on 11/04/2020 and he underwent repeat MRI in 12/2020 that showed disease progression. Repeat prostate biopsy on 2/23/2021 showed Gleason score 9. He underwent a  radical prostatectomy on 3/29/2021 for pT3aN0, bladder neck invasion, Gleason 9 disease and positive margins. His PSA was first detectable to 0.1 on 6/17/2021 and more recently it is 0.2 ng/ml on 9/14/2021. He is s/p 45 mg of Eligard on 11/8/2021. He is now s/p a course of salvage RT in the form of 68 Gy in 34 Fx to the prostate bed (completed on 12/17/21).    Plan:   -We will have Mr. Stoller follow-up in 6*** months with a PSA lab draw*** at that time.  -Continue to follow with PCP and other specialties as scheduled/discussed    OTHER GENERAL MEDICAL CONSIDERATIONS  --- Pt was instructed to follow-up with PCP and/or any pertinent specialist(s) for any of the following diagnoses not detailed elsewhere in the note:    No diagnosis found.        \\nRadiation Oncology Office Note    Diagnosis/Treatment History: Mr. Stoller is a 75 y.o. male with prostate adenocarcinoma (T1c, Gleason score 6 , initial PSA 6.7 ng/ml) diagnosed in 2018 and was on active surveillance. His PSA continued to rise to 21.6 ng/ml on 11/04/2020 and he underwent repeat MRI in 12/2020 that showed disease progression. Repeat prostate biopsy on 2/23/2021 showed Gleason score 9. He underwent a radical prostatectomy on 3/29/2021 for pT3aN0, bladder neck invasion, Gleason 9 disease and positive margins. His PSA was first detectable to 0.1 on 6/17/2021 and more recently it is 0.2 ng/ml on 9/14/2021. He is s/p 45 mg of Eligard on 11/8/2021. He is s/p a course of salvage radiation treatment to prostate bed and pelvic lymphatics (68 Gy completed on 12/17/2021).    Interval History: Mr. Stoller returns for follow up at this time approx. 1 year from completion of RT. He denies any GU or GI symptoms.     Labs:  Lab Results   Component Value Date/Time    PSA <0.1 01/09/2023 12:30 PM    PSA <0.1 12/19/2022 08:52 AM    PSA <0.1 08/08/2022 11:57 AM    PSA <0.1 05/27/2022 09:06 AM    PSA 0.2 09/14/2021 09:28 AM    PSA 0.2 08/02/2021 01:21 PM    PSA 0.1 06/17/2021 10:38 AM    PSA 0.2 05/14/2021 01:25 PM        Lab Results   Component Value Date/Time    TESTOSTERONE 160 (L) 01/09/2023 12:30 PM    TESTOSTERONE <10 (L) 08/08/2022 11:57 AM    TESTOSTERONE 12 (L) 05/27/2022 09:06 AM          Physical Examination:   VITAL SIGNS:   Visit Vitals  BP (!) 190/99 Comment: Pt. states he has white coat syndrome   Pulse 69   Temp 36.8 °C (98.3 °F) (Oral)   Resp 16   Wt 106.2 kg (234 lb 1.6 oz)   BMI 33.59 kg/m²   Smoking Status Never   BSA 2.23 m²     ECOG= 0  CONSTITUTIONAL: Well developed, well nourished male, who looks their stated age of 75 y.o..  No acute distress noted.   HEENT: Head is normocephalic and atraumatic. EOMI, sclera anicteric, moist mucous membranes  SKIN: Skin is warm and dry. No rashes or lesions noted  NEUROLOGIC EXAM: Alert and oriented x 3.  Non-focal exam  PSYCHIATRIC:  Appropriate mood and affect for his clinical situation.    Assessment/Plan    - We will have Mr. Stoller follow-up in 6 months with a PSA lab draw at that time.  -Continue to follow with PCP and other specialties as scheduled/discussed  - PSA and testosterone ordered    OTHER GENERAL MEDICAL CONSIDERATIONS  --- Pt was instructed to follow-up with PCP and/or any pertinent specialist(s) for any of the following diagnoses not detailed elsewhere in the note:    1. Prostate CA (CMS-hcc)          More than 30 minutes spent face to face with the patient, > 50% of the total visit was spent on counseling the patient discussing management options, reviewing recent imaging, coordinating the patient\\'s care  and answering the patient\\'s questions     I saw and evaluated the patient with the resident/fellow and agree with their findings and plan unless otherwise noted.   MOHAMED ELSHAIKH, MD               \\nRadiation Oncology Office Note    Diagnosis/Treatment History: Mr. Stoller is a 75 y.o. male with prostate adenocarcinoma (T1c, Gleason score 6 , initial PSA 6.7 ng/ml) diagnosed in 2018 and was on active surveillance. His PSA continued to rise to 21.6 ng/ml on 11/04/2020 and he underwent repeat MRI in 12/2020 that showed disease progression. Repeat prostate biopsy on 2/23/2021 showed Gleason score 9. He underwent a radical prostatectomy on 3/29/2021 for pT3aN0, bladder neck invasion, Gleason 9 disease and positive margins. His PSA was first detectable to 0.1 on 6/17/2021 and more recently it is 0.2 ng/ml on 9/14/2021. He is s/p 45 mg of Eligard on 11/8/2021. He is s/p a course of salvage radiation treatment to prostate bed and pelvic lymphatics (68 Gy completed on 12/17/2021).    Interval History: Mr. Stoller returns for follow up at this time approx. 1 year from completion of RT. He denies any GU or GI symptoms.     Labs:  Lab Results   Component Value Date/Time    PSA <0.1 01/09/2023 12:30 PM    PSA <0.1 12/19/2022 08:52 AM    PSA <0.1 08/08/2022 11:57 AM    PSA <0.1 05/27/2022 09:06 AM    PSA 0.2 09/14/2021 09:28 AM    PSA 0.2 08/02/2021 01:21 PM    PSA 0.1 06/17/2021 10:38 AM    PSA 0.2 05/14/2021 01:25 PM        Lab Results   Component Value Date/Time    TESTOSTERONE 160 (L) 01/09/2023 12:30 PM    TESTOSTERONE <10 (L) 08/08/2022 11:57 AM    TESTOSTERONE 12 (L) 05/27/2022 09:06 AM          Physical Examination:   VITAL SIGNS:   Visit Vitals  BP (!) 190/99 Comment: Pt. states he has white coat syndrome   Pulse 69   Temp 36.8 °C (98.3 °F) (Oral)   Resp 16   Wt 106.2 kg (234 lb 1.6 oz)   BMI 33.59 kg/m²   Smoking Status Never   BSA 2.23 m²     ECOG= 0  CONSTITUTIONAL: Well developed, well nourished male, who looks their stated age of 75 y.o..  No acute distress noted.   HEENT: Head is normocephalic and atraumatic. EOMI, sclera anicteric, moist mucous membranes  SKIN: Skin is warm and dry. No rashes or lesions noted  NEUROLOGIC EXAM: Alert and oriented x 3.  Non-focal exam  PSYCHIATRIC:  Appropriate mood and affect for his clinical situation.    Assessment/Plan    - We will have Mr. Stoller follow-up in 6 months with a PSA lab draw at that time.  -Continue to follow with PCP and other specialties as scheduled/discussed  - PSA and testosterone ordered    OTHER GENERAL MEDICAL CONSIDERATIONS  --- Pt was instructed to follow-up with PCP and/or any pertinent specialist(s) for any of the following diagnoses not detailed elsewhere in the note:    1. Prostate CA (CMS-hcc)          More than 30 minutes spent face to face with the patient, > 50% of the total visit was spent on counseling the patient discussing management options, reviewing recent imaging, coordinating the patient\\'s care  and answering the patient\\'s questions     I saw and evaluated the patient with the resident/fellow and agree with their findings and plan unless otherwise noted.   MOHAMED ELSHAIKH, MD               \\nRadiation Oncology Office Note    Diagnosis/Treatment History: Mr. Stoller is a 75 y.o. male with prostate adenocarcinoma (T1c, Gleason score 6 , initial PSA 6.7 ng/ml) diagnosed in 2018 and was on active surveillance. His PSA continued to rise to 21.6 ng/ml on 11/04/2020 and he underwent repeat MRI in 12/2020 that showed disease progression. Repeat prostate biopsy on 2/23/2021 showed Gleason score 9. He underwent a radical prostatectomy on 3/29/2021 for pT3aN0, bladder neck invasion, Gleason 9 disease and positive margins. His PSA was first detectable to 0.1 on 6/17/2021 and more recently it is 0.2 ng/ml on 9/14/2021. He is s/p 45 mg of Eligard on 11/8/2021. He is s/p a course of salvage radiation treatment to prostate bed and pelvic lymphatics (68 Gy completed on 12/17/2021).    Interval History: Mr. Stoller returns for follow up at this time approx. 1 year from completion of RT. He denies any GU or GI symptoms.     Labs:  Lab Results   Component Value Date/Time    PSA <0.1 01/09/2023 12:30 PM    PSA <0.1 12/19/2022 08:52 AM    PSA <0.1 08/08/2022 11:57 AM    PSA <0.1 05/27/2022 09:06 AM    PSA 0.2 09/14/2021 09:28 AM    PSA 0.2 08/02/2021 01:21 PM    PSA 0.1 06/17/2021 10:38 AM    PSA 0.2 05/14/2021 01:25 PM        Lab Results   Component Value Date/Time    TESTOSTERONE 160 (L) 01/09/2023 12:30 PM    TESTOSTERONE <10 (L) 08/08/2022 11:57 AM    TESTOSTERONE 12 (L) 05/27/2022 09:06 AM          Physical Examination:   VITAL SIGNS:   Visit Vitals  BP (!) 190/99 Comment: Pt. states he has white coat syndrome   Pulse 69   Temp 36.8 °C (98.3 °F) (Oral)   Resp 16   Wt 106.2 kg (234 lb 1.6 oz)   BMI 33.59 kg/m²   Smoking Status Never   BSA 2.23 m²     ECOG= 0  CONSTITUTIONAL: Well developed, well nourished male, who looks their stated age of 75 y.o..  No acute distress noted.   HEENT: Head is normocephalic and atraumatic. EOMI, sclera anicteric, moist mucous membranes  SKIN: Skin is warm and dry. No rashes or lesions noted  NEUROLOGIC EXAM: Alert and oriented x 3.  Non-focal exam  PSYCHIATRIC:  Appropriate mood and affect for his clinical situation.    Assessment/Plan    - We will have Mr. Stoller follow-up in 6 months with a PSA lab draw at that time.  -Continue to follow with PCP and other specialties as scheduled/discussed    OTHER GENERAL MEDICAL CONSIDERATIONS  --- Pt was instructed to follow-up with PCP and/or any pertinent specialist(s) for any of the following diagnoses not detailed elsewhere in the note:    1. Prostate CA (CMS-hcc)          More than 30 minutes spent face to face with the patient, > 50% of the total visit was spent on counseling the patient discussing management options, reviewing recent imaging, coordinating the patient\\'s care  and answering the patient\\'s questions     I saw and evaluated the patient with the resident/fellow and agree with their findings and plan unless otherwise noted.   MOHAMED ELSHAIKH, MD               \\nRadiation Oncology Office Note    Diagnosis/Treatment History: Mr. Stoller is a 75 y.o. male with prostate adenocarcinoma (T1c, Gleason score 6 , initial PSA 6.7 ng/ml) diagnosed in 2018 and was on active surveillance. His PSA continued to rise to 21.6 ng/ml on 11/04/2020 and he underwent repeat MRI in 12/2020 that showed disease progression. Repeat prostate biopsy on 2/23/2021 showed Gleason score 9. He underwent a radical prostatectomy on 3/29/2021 for pT3aN0, bladder neck invasion, Gleason 9 disease and positive margins. His PSA was first detectable to 0.1 on 6/17/2021 and more recently it is 0.2 ng/ml on 9/14/2021. He is s/p 45 mg of Eligard on 11/8/2021. He is s/p a course of salvage radiation treatment to prostate bed and pelvic lymphatics (68 Gy completed on 12/17/2021).    Interval History: Mr. Stoller returns for follow up at this time approx. 1 year from completion of RT. He denies any GU or GI symptoms.     Labs:  Lab Results   Component Value Date/Time    PSA <0.1 01/09/2023 12:30 PM    PSA <0.1 12/19/2022 08:52 AM    PSA <0.1 08/08/2022 11:57 AM    PSA <0.1 05/27/2022 09:06 AM    PSA 0.2 09/14/2021 09:28 AM    PSA 0.2 08/02/2021 01:21 PM    PSA 0.1 06/17/2021 10:38 AM    PSA 0.2 05/14/2021 01:25 PM        Lab Results   Component Value Date/Time    TESTOSTERONE 160 (L) 01/09/2023 12:30 PM    TESTOSTERONE <10 (L) 08/08/2022 11:57 AM    TESTOSTERONE 12 (L) 05/27/2022 09:06 AM          Physical Examination:   VITAL SIGNS:   Visit Vitals  BP (!) 190/99 Comment: Pt. states he has white coat syndrome   Pulse 69   Temp 36.8 °C (98.3 °F) (Oral)   Resp 16   Wt 106.2 kg (234 lb 1.6 oz)   BMI 33.59 kg/m²   Smoking Status Never   BSA 2.23 m²     ECOG= 0  CONSTITUTIONAL: Well developed, well nourished male, who looks their stated age of 75 y.o..  No acute distress noted.   HEENT: Head is normocephalic and atraumatic. EOMI, sclera anicteric, moist mucous membranes  SKIN: Skin is warm and dry. No rashes or lesions noted  NEUROLOGIC EXAM: Alert and oriented x 3.  Non-focal exam  PSYCHIATRIC:  Appropriate mood and affect for his clinical situation.    Assessment/Plan    - We will have Mr. Stoller follow-up in 6 months with a PSA lab draw at that time.  -Continue to follow with PCP and other specialties as scheduled/discussed    OTHER GENERAL MEDICAL CONSIDERATIONS  --- Pt was instructed to follow-up with PCP and/or any pertinent specialist(s) for any of the following diagnoses not detailed elsewhere in the note:    1. Prostate CA (CMS-hcc)          More than 30 minutes spent face to face with the patient, > 50% of the total visit was spent on counseling the patient discussing management options, reviewing recent imaging, coordinating the patient\\'s care  and answering the patient\\'s questions     I saw and evaluated the patient with the resident/fellow and agree with their findings and plan unless otherwise noted.   MOHAMED ELSHAIKH, MD               '"
      ]
     },
     "execution_count": 106,
     "metadata": {},
     "output_type": "execute_result"
    }
   ],
   "source": [
    "all_notes[0]"
   ]
  },
  {
   "cell_type": "code",
   "execution_count": 166,
   "metadata": {},
   "outputs": [
    {
     "name": "stdout",
     "output_type": "stream",
     "text": [
      "KV\n",
      "Fistula 25\n",
      "Urgency 25\n",
      "Cystitis 25\n",
      "Urinary obstruction 25\n",
      "Urinary frequency 25\n",
      "Dysuria 25\n",
      "Erectile Dysfunction 25\n",
      "Rectal bleeding 25\n",
      "Stricture 25\n",
      "Nocturia 25\n",
      "Proctitis 25\n",
      "RH\n",
      "Fistula 25\n",
      "Hematuria 25\n",
      "Urothelial carcinoma 19\n",
      "Urinary retention 25\n",
      "Incontinence 25\n"
     ]
    }
   ],
   "source": [
    "all_single_graded_notes = []\n",
    "all_single_graded_notes_info = []\n",
    "\n",
    "for grader in graders:\n",
    "    print(grader)\n",
    "    for toxicity in files[grader]:\n",
    "        print(toxicity, files[grader][toxicity].shape[0])\n",
    "        for index, row in files[grader][toxicity].iterrows():\n",
    "            mrn = str(row['MRN'])\n",
    "            note_text = row['NOTE_TEXT']\n",
    "            all_single_graded_notes.append(note_text)\n",
    "            all_single_graded_notes_info.append({'mrn': mrn, 'toxicity': toxicity, 'grader': grader, 'index': index})"
   ]
  },
  {
   "cell_type": "code",
   "execution_count": 167,
   "metadata": {},
   "outputs": [
    {
     "data": {
      "text/plain": [
       "\"Mr. Gary Alkasib is a 72 y.o. male that presents to the office today for complaints of cirrhosis due to {Hepatitis DDX:20175}.   Diagnosis of cirrhosis was made around ***.  Diagnosis of cirrhosis was made by {DESC; HEPATITIS STUDIES:20174}.      Symptoms of cirrhosis include {Symptoms; liver failure:18690:x}.   Patient has had the following workup for cirrhosis, including ***.  Complications of cirrhosis include {AN COMPLICATIONS FROM LIVER DS:24456:x}.  Treatment has included ***.      Alcohol history includes  reports that he does not drink alcohol.  Tobacco history includes  reports that he quit smoking about 48 years ago. His smoking use included cigarettes. He smoked 0.25 packs per day. He has never used smokeless tobacco.  Drug history includes  reports that he does not use drugs.              Review of Systems   CONSTITUTIONAL: No fever, chills, fatigue  EYES, EAR, NOSE, MOUTH AND THROAT: No scleral icterus  CARDIOVASCULAR: No chest pain, palpitations  RESPIRATORY: No shortness of breath, wheezing, cough  GASTROINTESTINAL: No abdominal pain, bleeding  GENITOURINARY: No urinary frequency, burning urination  MUSCULOSKELETAL: No muscle aches, joint pain  SKIN: No rashes, skin lesions  NEUROLOGICAL: No headache, dizziness, weakness  PSYCHIATRIC: No anxiety, depression  HEMATOLOGIC: No overt bleeding, anemia  ENDOCRINOLOGY: No heat or cold intolerance    Physical Exam  Visit Vitals  Smoking Status Former Smoker       Constitutional: Oriented to person, place, and time. {NO:22549} stigmata of chronic liver disease noted.   Head: Normocephalic, atraumatic.   Mouth/Throat: Oropharynx is clear and moist without lesions.   Eyes: Conjunctivae are normal with no scleral icterus.  Extraocular movements normal.   Neck: Normal range of motion. Neck supple. No thyromegaly or lymphadenopathy present.   Cardiovascular: Normal rate, regular rhythm, normal heart sounds without murmur.  Pulmonary/Chest: Effort normal. No respiratory distress without wheezes, rales, rhonchi.  Abdominal: Soft, nontender without mass or hepatosplenomegaly.     Musculoskeletal: Movement of all four extremities without lower extremity edema.  Muscle wasting {IS:23617} noted.   Neurological: Alert and oriented to person, place, and time.  Skin: Skin is warm and dry without rash.  Palmer erythema {IS:23617} noted. Dupuytren's contractures {Actions; are/are not:16769} noted.  Spider angiomata {Actions; are/are not:16769} noted.  Psychiatric: Normal mood and affect. Behavior is normal. Judgment and thought content normal.  {NO:22549} asterixis is noted.    Results on 10/02/2019   Component Date Value Ref Range Status   • BUN 10/02/2019 46* 6 - 19 mg/dL Final   • CREATININE 10/02/2019 4.29* 0.60 - 1.30 mg/dL Final   • Potassium 10/02/2019 4.6  3.5 - 5.1 mEq/L Final   • Chloride 10/02/2019 96  96 - 108 mEq/L Final   • HCO3 10/02/2019 29  22 - 29 mEq/L Final   • Calcium 10/02/2019 9.7  8.4 - 10.2 mg/dL Final   • Phosphorus, Serum 10/02/2019 2.9  2.6 - 4.5 mg/dL Final   • Alkaline Phosphatase 10/02/2019 56  40 - 129 U/L Final   • AST 10/02/2019 29  13 - 39 U/L Final   • ALT 10/02/2019 21  7 - 52 U/L Final   • Protein, Total, Serum 10/02/2019 7.2  6.0 - 8.5 g/dL Final   • Albumin 10/02/2019 3.9  3.5 - 5.2 g/dL Final   • GLUCOSE 10/02/2019 146* 70 - 100 mg/dL Final   • Iron 10/02/2019 103  45 - 160 mcg/dL Final   • UNCORRECTED CA X 10/02/2019 28  0 - 54 Final   • A/G Ratio 10/02/2019 1.2  1.0 - 2.0 Final   • BUN CREATININE RATIO (CALC) 10/02/2019 10.7  10.0 - 20.0 Final   • Corrected Calcium 10/02/2019 9.8  8.4 - 10.2 mg/dL Final    Corrected Calcium is not equivalent to measured Ionized Calcium.   • Unsat. Iron Binding 10/02/2019 179  155 - 355 mcg/dL Final   • Iron Binding, Total 10/02/2019 282  185 - 515 mcg/dL Final   • Iron Saturation 10/02/2019 37  20 - 55 % Final   • Globulin 10/02/2019 3.3  2.0 - 4.0 g/dL Final   • CORR CA X P PRODUCT 10/02/2019 28  0 - 54 Final   • Platelet Count 10/02/2019 137  130 - 400 1000/mcL Final   • WBC Count 10/02/2019 4.61* 4.80 - 10.80 1000/mcL Final   • RBC 10/02/2019 3.91* 4.70 - 6.10 mill/mcL Final   • Retic Percent 10/02/2019 2.06  0.80 - 2.10 % Final   • RDW 10/02/2019 15.5* 11.5 - 14.5 % Final   • Basophils, absolute 10/02/2019 0.5  0.0 - 1.5 % Final   • Eosinophils 10/02/2019 2.7  0.0 - 7.0 % Final   • Lymphocytes 10/02/2019 16.1* 19.0 - 48.0 % Final   • Monocytes 10/02/2019 7.4  3.0 - 10.0 % Final   • Neutrophil 10/02/2019 69.2  40.0 - 75.0 % Final   • Hemoglobin 10/02/2019 12.6* 14.0 - 18.0 g/dL Final   • Hematocrit, whole blood 10/02/2019 38.5* 42.0 - 52.0 % Final   • MEAN CELL VOLUME 10/02/2019 98  80 - 100 fl Final   • MEAN CELL HEMOGLO 10/02/2019 32.3* 27.0 - 31.0 pg Final   • MEAN CELL HGB 10/02/2019 32.8  30.0 - 36.0 g/dL Final   • HEPATITIS BS ANTIGEN 10/02/2019 Negative  Negative Final   • Ferritin 10/02/2019 156  22 - 322 ng/mL Final   • PTH, Intact 10/02/2019 215* 16 - 80 pg/mL Final   • HA1C DM Target Range 10/02/2019 5.8  4.8 - 5.9 % Final   • POST BUN 10/02/2019 19  6 - 19 mg/dL Final   • UREA REDUCTION RATIO 10/02/2019 59* 65 - 80 % Final       Assessment:    Plan:              I spent time reviewing the natural history and prognosis of cirrhosis, including possible decompensation.  Patient was strongly encouraged to contact the office if {SSS19_he _she _small case:23139} develops any of these potential decompensation episodes.  Patient was encouraged to abstain from all alcohol and tobacco products.  Treatment for mild pain should be limited to 2000 mg of Acetaminophen (Tylenol) in a 24 hour period.    I also discussed the need for imaging and AFP every 6 months to screen for hepatoma, as well as upper endoscopy periodically to screen for esophageal varices.  Patient was told to contact the office every 6 months for this additional workup.    \""
      ]
     },
     "execution_count": 167,
     "metadata": {},
     "output_type": "execute_result"
    }
   ],
   "source": [
    "all_single_graded_notes[100]"
   ]
  },
  {
   "cell_type": "code",
   "execution_count": 168,
   "metadata": {},
   "outputs": [
    {
     "name": "stdout",
     "output_type": "stream",
     "text": [
      "saved\n"
     ]
    }
   ],
   "source": [
    "# save all_single_graded_notes as a .npy file\n",
    "np.save('data/single_graded/all_single_graded_notes.npy', all_single_graded_notes)\n",
    "np.save('data/single_graded/all_single_graded_notes_info.npy', all_single_graded_notes_info)\n",
    "print('saved')"
   ]
  },
  {
   "cell_type": "code",
   "execution_count": 132,
   "metadata": {},
   "outputs": [],
   "source": [
    "# python main.py --input_file_path ../data/single_graded/all_single_graded_notes.npy --out\n",
    "# put_file_path ../data/single_graded/all_single_graded_notes_deidentified.npy --device cuda:0\n",
    "#  cuda:1 cuda:2 --hospital_list stanford washington"
   ]
  },
  {
   "cell_type": "code",
   "execution_count": 182,
   "metadata": {},
   "outputs": [
    {
     "data": {
      "text/plain": [
       "((394,), (394,))"
      ]
     },
     "execution_count": 182,
     "metadata": {},
     "output_type": "execute_result"
    }
   ],
   "source": [
    "#read the .npy file at 'data/single_graded/all_single_graded_notes_deidentified.npy'\n",
    "import numpy as np\n",
    "all_single_graded_notes_info = np.load('data/single_graded/all_single_graded_notes_info.npy', allow_pickle=True)\n",
    "all_single_graded_notes_deidentified = np.load('data/single_graded/all_single_graded_notes_deidentified.npy', allow_pickle=True)\n",
    "all_single_graded_notes_info.shape, all_single_graded_notes_deidentified.shape"
   ]
  },
  {
   "cell_type": "code",
   "execution_count": 183,
   "metadata": {},
   "outputs": [
    {
     "data": {
      "text/plain": [
       "\"Mae Personic is a 72 y.o. male that presents to the office today for complaints of cirrhosis due to {Hepatitis DDX:2003/12/24}.   Diagnosis of cirrhosis was made around ***.  Diagnosis of cirrhosis was made by {DESC; HEPATITIS STUDIES:24/12/03}.      Symptoms of cirrhosis include {Symptoms; liver failure:18690:x}.   Patient has had the following workup for cirrhosis, including ***.  Complications of cirrhosis include {AN COMPLICATIONS FROM LIVER DS:12-19-11-38-20-71:x}.  Treatment has included ***.      Alcohol history includes  reports that he does not drink alcohol.  Tobacco history includes  reports that he quit smoking about 48 years ago. His smoking use included cigarettes. He smoked 0.25 packs per day. He has never used smokeless tobacco.  Drug history includes  reports that he does not use drugs.              Review of Systems   CONSTITUTIONAL: No fever, chills, fatigue  EYES, EAR, NOSE, MOUTH AND THROAT: No scleral icterus  CARDIOVASCULAR: No chest pain, palpitations  RESPIRATORY: No shortness of breath, wheezing, cough  GASTROINTESTINAL: No abdominal pain, bleeding  GENITOURINARY: No urinary frequency, burning urination  MUSCULOSKELETAL: No muscle aches, joint pain  SKIN: No rashes, skin lesions  NEUROLOGICAL: No headache, dizziness, weakness  PSYCHIATRIC: No anxiety, depression  HEMATOLOGIC: No overt bleeding, anemia  ENDOCRINOLOGY: No heat or cold intolerance    Physical Exam  Visit Vitals  Smoking Status Former Smoker       Constitutional: Oriented to person, place, and time. {NO:049374301} stigmata of chronic liver disease noted.   Head: Normocephalic, atraumatic.   Mouth/Throat: Oropharynx is clear and moist without lesions.   Eyes: Conjunctivae are normal with no scleral icterus.  Extraocular movements normal.   Neck: Normal range of motion. Neck supple. No thyromegaly or lymphadenopathy present.   Cardiovascular: Normal rate, regular rhythm, normal heart sounds without murmur.  Pulmonary/Chest: Effort normal. No respiratory distress without wheezes, rales, rhonchi.  Abdominal: Soft, nontender without mass or hepatosplenomegaly.     Musculoskeletal: Movement of all four extremities without lower extremity edema.  Muscle wasting {IS:23617} noted.   Neurological: Alert and oriented to person, place, and time.  Skin: Skin is warm and dry without rash.  Palmer erythema {IS:23617} noted. Dupuytren's contractures {Actions; are/are not:XALFJAUUYQ} noted.  Spider angiomata {Actions; are/are not:16769} noted.  Psychiatric: Normal mood and affect. Behavior is normal. Judgment and thought content normal.  {NO:049374301} asterixis is noted.    Results on 4/30   Component Date Value Ref Range Status   • BUN 4-30-2005 46* 6 - 19 mg/dL Final   • CREATININE 05 April 4.29* 0.60 - 1.30 mg/dL Final   • Potassium 04-30-05 4.6  3.5 - 5.1 mEq/L Final   • Chloride 4/30/2005 90 - 96 mEq/L Final   • HCO3 05/04/30 29  22 - 29 mEq/L Final   • Calcium 04-30 9.7  8.4 - 10.2 mg/dL Final   • Phosphorus, Serum 4-30-2005 2.9  2.6 - 4.5 mg/dL Final   • Alkaline Phosphatase 4/30/2005 56  40 - 93 U/L Final   • AST 4/30/05 29  13 - 39 U/L Final   • ALT 04/30/2005 21  7 - 52 U/L Final   • Protein, Total, Serum 04/30/05 7.2  6.0 - 8.5 g/dL Final   • Albumin 4/30 3.9  3.5 - 5.2 g/dL Final   • GLUCOSE 04-30 146* 70 - 100 mg/dL Final   • Iron 4/30/2005 99  45 - 160 mcg/dL Final   • UNCORRECTED CA X April 30 05 28  0 - 54 Final   • A/G Ratio 2005-04-30 1.2  1.0 - 2.0 Final   • BUN CREATININE RATIO (CALC) 2005/4/30 10.7  10.0 - 20.0 Final   • Corrected Calcium 4/30/2005 9.8  8.4 - 10.2 mg/dL Final    Corrected Calcium is not equivalent to measured Ionized Calcium.   • Unsat. Iron Binding 4-30-2005 179  155 - 355 mcg/dL Final   • Iron Binding, Total 4-30-2005 282  185 - 515 mcg/dL Final   • Iron Saturation 4/30/05 37  20 - 55 % Final   • Globulin 4-30-2005 3.3  2.0 - 4.0 g/dL Final   • CORR CA X P PRODUCT 2005/04/30 28  0 - 54 Final   • Platelet Count 2005 APRIL 30TH 137  100 - 400 1000/mcL Final   • WBC Count 4-30-2005 4.61* 4.80 - 10.80 1000/mcL Final   • RBC 4-30-2005 3.91* 4.70 - 6.10 mill/mcL Final   • Retic Percent 04/30/05 2.06  0.80 - 2.10 % Final   • RDW 4/30/2005 15.5* 11.5 - 14.5 % Final   • Basophils, absolute 4/30 0.5  0.0 - 1.5 % Final   • Eosinophils April 2005 2.7  0.0 - 7.0 % Final   • Lymphocytes 4-30-2005 16.1* 19.0 - 48.0 % Final   • Monocytes 4-30-05 7.4  3.0 - 10.0 % Final   • Neutrophil 04-30-05 69.2  40.0 - 75.0 % Final   • Hemoglobin 4/30 12.6* 14.0 - 18.0 g/dL Final   • Hematocrit, whole blood 04-30-2005 38.5* 42.0 - 52.0 % Final   • MEAN CELL VOLUME 4-30-2005 97  80 - 90 fl Final   • MEAN CELL HEMOGLO 4-30-2005 32.3* 27.0 - 31.0 pg Final   • MEAN CELL HGB 4-30-2005 32.8  30.0 - 36.0 g/dL Final   • HEPATITIS BS ANTIGEN 05-30-04 Negative  Negative Final   • Ferritin 30/04/05 156  22 - 322 ng/mL Final   • PTH, Intact April 2005 215* 16 - 80 pg/mL Final   • HA1C DM Target Range 4/30/2005 5.8  4.8 - 5.9 % Final   • POST BUN 4/30/2005 19  6 - 19 mg/dL Final   • UREA REDUCTION RATIO 4-30-2005 59* 65 - 80 % Final       Assessment:    Plan:              I spent time reviewing the natural history and prognosis of cirrhosis, including possible decompensation.  Patient was strongly encouraged to contact the office if {744866489_he _she _small case:744866489} develops any of these potential decompensation episodes.  Patient was encouraged to abstain from all alcohol and tobacco products.  Treatment for mild pain should be limited to 2000 mg of Acetaminophen (Tylenol) in a 24 hour period.    I also discussed the need for imaging and AFP every 6 months to screen for hepatoma, as well as upper endoscopy periodically to screen for esophageal varices.  Patient was told to contact the office every 6 months for this additional workup.\""
      ]
     },
     "execution_count": 183,
     "metadata": {},
     "output_type": "execute_result"
    }
   ],
   "source": [
    "all_single_graded_notes_deidentified[100]"
   ]
  },
  {
   "cell_type": "code",
   "execution_count": 184,
   "metadata": {},
   "outputs": [],
   "source": [
    "deid_files = {}\n",
    "for i, dnote in enumerate(all_single_graded_notes_deidentified):\n",
    "    note_info = all_single_graded_notes_info[i]\n",
    "    grader, toxicity, mrn, index = note_info['grader'], note_info['toxicity'], note_info['mrn'], note_info['index']\n",
    "    note_text = dnote\n",
    "    if grader not in deid_files:\n",
    "        deid_files[grader] = {}\n",
    "    if toxicity not in deid_files[grader]:\n",
    "        deid_files[grader][toxicity] = []\n",
    "    label = files[grader][toxicity].loc[int(index), toxicity + ' (1, 0, -1)']\n",
    "    deid_files[grader][toxicity].append((grader, toxicity, mrn, index, label, note_text))"
   ]
  },
  {
   "cell_type": "code",
   "execution_count": 185,
   "metadata": {},
   "outputs": [
    {
     "data": {
      "text/html": [
       "<div>\n",
       "<style scoped>\n",
       "    .dataframe tbody tr th:only-of-type {\n",
       "        vertical-align: middle;\n",
       "    }\n",
       "\n",
       "    .dataframe tbody tr th {\n",
       "        vertical-align: top;\n",
       "    }\n",
       "\n",
       "    .dataframe thead th {\n",
       "        text-align: right;\n",
       "    }\n",
       "</style>\n",
       "<table border=\"1\" class=\"dataframe\">\n",
       "  <thead>\n",
       "    <tr style=\"text-align: right;\">\n",
       "      <th></th>\n",
       "      <th>MRN</th>\n",
       "      <th>Fistula (1, 0, -1)</th>\n",
       "      <th>NOTE_TEXT</th>\n",
       "      <th>toxicity_background_color</th>\n",
       "    </tr>\n",
       "  </thead>\n",
       "  <tbody>\n",
       "    <tr>\n",
       "      <th>228</th>\n",
       "      <td>NaN</td>\n",
       "      <td>0</td>\n",
       "      <td>* Fatigue and debility   Assessment &amp; Plan - E...</td>\n",
       "      <td>True</td>\n",
       "    </tr>\n",
       "    <tr>\n",
       "      <th>231</th>\n",
       "      <td>NaN</td>\n",
       "      <td>0</td>\n",
       "      <td>ESRD (end stage renal disease) on dialysis (CM...</td>\n",
       "      <td>True</td>\n",
       "    </tr>\n",
       "    <tr>\n",
       "      <th>234</th>\n",
       "      <td>NaN</td>\n",
       "      <td>0</td>\n",
       "      <td>PAC CM Intake/ Progress Note    Emailed Encoun...</td>\n",
       "      <td>True</td>\n",
       "    </tr>\n",
       "    <tr>\n",
       "      <th>236</th>\n",
       "      <td>NaN</td>\n",
       "      <td>-1</td>\n",
       "      <td>* Decubitus ulcer of sacral region, unstageabl...</td>\n",
       "      <td>True</td>\n",
       "    </tr>\n",
       "    <tr>\n",
       "      <th>241</th>\n",
       "      <td>NaN</td>\n",
       "      <td>-1</td>\n",
       "      <td>* Decubitus ulcer of sacral region, unstageabl...</td>\n",
       "      <td>True</td>\n",
       "    </tr>\n",
       "  </tbody>\n",
       "</table>\n",
       "</div>"
      ],
      "text/plain": [
       "     MRN  Fistula (1, 0, -1)  \\\n",
       "228  NaN                   0   \n",
       "231  NaN                   0   \n",
       "234  NaN                   0   \n",
       "236  NaN                  -1   \n",
       "241  NaN                  -1   \n",
       "\n",
       "                                             NOTE_TEXT  \\\n",
       "228  * Fatigue and debility   Assessment & Plan - E...   \n",
       "231  ESRD (end stage renal disease) on dialysis (CM...   \n",
       "234  PAC CM Intake/ Progress Note    Emailed Encoun...   \n",
       "236  * Decubitus ulcer of sacral region, unstageabl...   \n",
       "241  * Decubitus ulcer of sacral region, unstageabl...   \n",
       "\n",
       "     toxicity_background_color  \n",
       "228                       True  \n",
       "231                       True  \n",
       "234                       True  \n",
       "236                       True  \n",
       "241                       True  "
      ]
     },
     "execution_count": 185,
     "metadata": {},
     "output_type": "execute_result"
    }
   ],
   "source": [
    "files['KV']['Fistula'].tail()"
   ]
  },
  {
   "cell_type": "code",
   "execution_count": 186,
   "metadata": {},
   "outputs": [
    {
     "data": {
      "text/plain": [
       "[('KV',\n",
       "  'Fistula',\n",
       "  'nan',\n",
       "  228,\n",
       "  0,\n",
       "  '* Fatigue and debility   Assessment & Plan - Edited by yursul, mordrick, rn at 6-1-2021  4:01 PM  Patient is a 72 year old male with history of non-ischemic cardiomyopathy with severely reduced EF, ESRD on HD, hypertension, CVA, prostate cancer s/p treatment that presented to hospital for fatigue and inability to care for himself at home. Laboratory studies showed hyponatremia, elevated AG, normal potassium, BUN 27, no leukocytosis or anemia, normal lactate, elevated bilirubins, elevated troponin. CXR showed retrocardiac opacity. CT chest showed no acute changes. He was placed in observation status to general medical unit for further management.     1. Fatigue and debility. Most likely due to end-stage disease including heart and renal failure. He was just discharged from rehab facility and now back in hospital because he is unable to take care of himself.  Patient is interested in talking with hospice. Hospice consult was placed. Patient is not a candidate for hospice given that he would like to continue dialysis. PT/OT and social work consulted as well.  Plan for DC to penn university after evaluation by vascular surgery. I was notified by nephro that his fistula is not functioning properly.   2. Chronic systolic CHF, stable. EF 10-15%. Continue lisinopril.   3. Elevated troponin. It is chronically elevated from heart failure.   4. Hx of CVA.   5. Hypertension, controlled.   6. ESRD on HD MWF. Nephrology consulted. He received dialysis today but nephro concerned that fistula is not functioning properly. Vascular consult placed.   7. Chronic anemia, stable.   8. Chronic wounds to lower extremities. Continue wound care.     Echo:  Summary:  \\xa01. Ejection fraction is estimated to be 13% in the range of 10 - 15%. Severely reduced LV ejection fraction.  \\xa02. Left ventricular cavity size is normal. LV wall thickness is mildly increased.  \\xa03. There was severe hypokinesis of the entire left ventricle wall.  \\xa04. LV diastolic function parameters are indeterminate and LV diastolic filling pattern shows E/A fusion.  \\xa05. Moderately enlarged right ventricle and severely reduced global RV systolic function.  \\xa06. Estimated PA pressure is 41 mmHg. Mildly elevated pulmonary artery systolic pressure.  \\xa07. Moderately dilated right atrium.  \\xa08. Mild to moderate tricuspid regurgitation.  \\xa09. Mild to moderate aortic regurgitation.  10. Pleural effusion in the left lateral region.      Chronic systolic CHF (congestive heart failure) (Penn University)  Assessment & Plan - Edited by RN MORDRICK at 6/1  4:02 PM    ESRD (end stage renal disease) on dialysis (Pu)  Assessment & Plan - Edited by yursul mordrick at 6-1-21  4:03 PM      Admission Date and Time: 5-21  9:36 PM  PCP:  Barona, Victor, M.D.    SUBJECTIVE(including interval history):  Feels tired but otherwise doing ok.     mr. holla is a 72 y.o. male who has a past medical history of Acute renal failure superimposed on stage 4 chronic kidney disease (penn) (3-4-2)019), Anemia, Arthritis, Cancer (Pu), Cataract, Chronic kidney disease, CME (cystoid macular edema), right, Congestive heart failure (university penn), Coronary atherosclerosis, Deep vein thrombosis (General Surgery, University Of Penn), Diabetes mellitus (Gastroenterology Uop), Epiretinal membrane (ERM) of right eye, Essential hypertension, Heart failure with reduced left ventricular function (penn university), History of chemotherapy (7/15/2016), History of radiation therapy (7/15/2016), ischemic vertebrobasilar artery cerebellar stroke (7-16-2014), Kidney failure, Low back pain, Malnourished (penn), Nonischemic cardiomyopathy (Psychiatry At Uap), Prostate cancer (Pu), PVD (peripheral vascular disease) (UNIVERSITY OF PENN), PVD (posterior vitreous detachment), both eyes, Sickle cell trait (Oncology Penn), and Vitamin D deficiency.    PHYSICAL EXAMINATION:  Blood pressure 103/78, pulse 100, temperature 37 °C (98.6 °F), temperature source Temporal, resp. rate 18, height 1.778 m (5\\' 10\"), weight 68 kg (150 lb), SpO2 96 %.  Vitals: Reviewed.   General: Appears chronically ill.   HEENT: NCAT. Oral mucosa is moist and without lesions.   Cardiovascular: RRR without MRG.  Pulmonary: Breathing is non-labored. Respiratory sounds without wheezes, rhonchi or crackles.   Abdomen/GU: BS present, soft and non-tender.   Extremities: Bilateral leg edema.   Skin: Warm and dry.  Neuro: Awake and alert.   Psych: Mood is stable.     LABS:  Today, I have reviewed laboratory results up to this point in the patients current encounter and have incorporated these into the assessment/plan and care of this patient.  Recent Labs   Lab May 30   WBC 5.7   HGB 14.7   HCT 43.7   PLT 156     Recent Labs   Lab 5-30-21   NAS 134*   POTASS 4.0   CO2 30   BUN 27*   CREATININE 3.88*   GLUCOSE 98   CALCIUM 9.6       RADIOLOGY:  Today, I have reviewed Radiology reports up to this point in the patients current encounter and have incorporated these into the assessment/plan and care of this patient.    MEDICATIONS:   • b complex with vitamin c  1 capsule Oral QPM   • lisinopril  2.5 mg Oral Every Other Day   • senna-docusate  1 tablet Oral BID     hydrOXYzine, lactulose, sodium chloride 0.9 %, traMADol    Abbreviations:  (PRN-As needed;  CHF-Congestive Heart Failure;  HTN-Hypertension; DM-Diabetes Mellitus;  TIA-Transient Ischemic Attack;  PMH-Past Medical History;  PSH-Past Surgical History;  MI-Myocardial Infarction;  NSTEMI-Non-ST-Elevation Myocardial infarction;  STEMI-ST elevation Myocardial Infarction;  PE-Pulmonary Embolism;  PNA-Pneumonia;  PCP-Primary care physician)         Mordrick, Yursul, RN'),\n",
       " ('KV',\n",
       "  'Fistula',\n",
       "  'nan',\n",
       "  231,\n",
       "  0,\n",
       "  'ESRD (end stage renal disease) on dialysis (Uop Haematology-university of stanford)  Assessment & Plan - Written by Hourtu, Mordrick, MD at 12-30-05 12:40 PM  POD#1 s/p Left arm AV fistulagram with PTA of distal basilic vein    - procedure went well  - Incisional suture removed   - patient\\'s fistula is functional and patient receiving HD  - IR will sign off, call for any questions         Subjective/Objective       Subjective    Interval History/Symptoms:  No acute events overnight. Patient is being hemodialized. He denies any pain or bleeding from the fistula site.     Objective     Vitals:  Temp (24hrs), Avg:36.6 °C (97.8 °F), Min:36 °C (96.8 °F), Max:37 °C (98.6 °F)    Blood pressure 111/73, pulse (!) 96, temperature 37 °C (98.6 °F), resp. rate 19, height 1.778 m (5\\' 10\"), weight 68 kg (150 lb), SpO2 90 %.    Exam  General:  comfortable  Cardiovascular:  regular rate and rhythm  Lungs:  clear to auscultation bilaterally  Abdomen:  Normal bowel sounds  Drain: absent  Incision: Clean, dry and intact. LUE AVF - thrill palpable  Extremities:  no edema            MORDRICK, HOURTU, MD-C  Interventional Radiology'),\n",
       " ('KV',\n",
       "  'Fistula',\n",
       "  'nan',\n",
       "  234,\n",
       "  0,\n",
       "  \"PAC CM Intake/ Progress Note    Emailed Encounter     Facility Name: Jh  Admission Date:  21/07/01  Primary Diagnosis: Fatigue, Anemia, Chronic Kidney Failure, h/o hemodialysis  Skilled Services:PT, OT      Progress  Therapy   PT:  Gait=75' with 2ww, cga  Transfers= CGA  Stairs=   OT:  Feeding= Mod I  Dressing= SBA/Min pa  Bathing== CGA/Min pa  Toileting= Min pa  SLP: N/A  Barriers to therapy progress: No  Plan to address barriers: N/A  Plan for upcoming week: Therapy  Prior level of function:Modified Independent  Clinical: Patient is alert and orientated x3, able to make needs known to staff members. Patient does not void r/t hemodialysis. Patient is continent of bowel, last BM July 1, BS present x4 quadrants. Lungs sounds are clear throughout all lung fields. Patient reports scant sputum production that is light yellow to light brown in color, denies SOB. Patient is a 2 person assist for transfers at this time, 1 person assist for bed mobility and completion of ADLs. Patient verbalized understanding of requiring staff assistance at this time. Patient is on a high protein renal diet regular texture with thin liquids, takes medications whole with water without difficulty. Patient reports pain to R foot wound that is controlled with pain meds PRN. Patient has a fistula to the LUE that has a positive bruit and thrill. Patient has no observed edema.    7-17-2021 This 72 year old male with history of chronic DDD of lumbar spine is evaluated for acute on chronic back pain and response to treatment plan. Tramadol administered as needed and felt to be effective with pain score < 4/10. Feels functional status not improving, concerned regarding ability to care for self at home                             Living Environment  Housing Type: Ranch, Hospital Of Stanford  Transportation Available: Yes    Discharge Needs Assessment  Discharge Plan: Home with family  Barriers to Discharge: No  Prior Level of Caregiver Support: Mod I   Anticipated Caregiver Support Need: TBD  Home Care or Outpatient Therapy Plan: HC  Equipment Currently Used at Home: 2 ww, w/c, shower chair, grab bars  DME Needs Identified: TBD  Discharge Planning Comments: No  Projected Discharge Date: 07/22/21  PCP: hourtu, mordrick  Follow-up Appointment Schedule: TBD      Community Resources  Outpatient/Agency/Community Resource Needs: No  Ambulatory Case Management: barona, victor, md  Anticipated Changes Related to Illness: No    Current Goal:  CM will collaborate with SNF care team in 1 - 2 weeks until pt  transition  to next level of care.\"),\n",
       " ('KV',\n",
       "  'Fistula',\n",
       "  'nan',\n",
       "  236,\n",
       "  -1,\n",
       "  '* Decubitus ulcer of sacral region, unstageable (Uop Of Clinical Pathology-uas)  Assessment & Plan - Edited by Dr Barona, Victor at 7/2/2015  8:43 AM  72M with history of Parkinsons, DBS, scoliosis s/p major spinal surgery T9-pelvis (5/14/2027) with subsequent inability to walk presents with sepsis likely secondary to severe sacral decubitus ulcer.   CTAP: deep sacral decubitus ulcer, large abscess extending to sacrum and coccyx measuring 9.7 x 8.5 x 4.4 cm; small presacral fluid collection 4.4 x 1.7 cm; mild fecal impation    S/p debridement of sacral decubitus ulcer 06-28-2027    Cultures positive for E Faecalis   Fecal soiling through the sacral ulcer. No colo-atmospheric fistula appreciated  Patient more on board with diverting colostomy if it is temporary      Plan:  Daily dressing changes   IVF  IV antibiotics  Diet as tolerated    Fecal impaction (UNIVERSITY OF PENN)-resolved as of 06/33  Assessment & Plan - Edited by RODRIGO MORDRICK, MD at 6/28/33  7:23 AM  Bowel regimen   Fleet enema x1      Hospital Day: 5    SUBJECTIVE:   Stable. No acute events over night. Patient having fecal soiling through sacral wound. Patient more on board with possibility of diverting ostomy if it is temporary.     PHYSICAL EXAMINATION:  Blood pressure (!) 146/73, pulse 73, temperature 37.3 °C (99.1 °F), temperature source Oral, resp. rate 17, height 1.753 m (5\\' 9\"), weight 65.8 kg (145 lb), SpO2 105 %.    Head: Atraumatic, normocephalic  Ears: hearing intact  Eyes: EOM normal, no scleral icterus   Neck:  trachea midline; no LAD  Cardiovascular: Regular rate  Pulmonary/chest wall: respirations unlabored; equal rise and fall bilaterally  Gastrointestinal: soft, NTTP, no distension, no rigidity, no guarding  Back: 5 x 7 cm stage IV sacral decubitus ulcer with fecal soiling;  repacked with iodine socked Kerlix  Extremities: no edema  Psychiatric-behavioral: mood/affect normal        Intake/Output Summary (Last 24 hours) at 07-01-33 (808) 927-7282  Last data filed at 7-1-2033 0331  Gross per 24 hour   Intake 200 ml   Output 1750 ml   Net -1550 ml     I/O last 3 completed shifts:  In: 1591.7 I.V.:1191.7; IV Piggyback:400  Out: 1750 Urine:1750  No intake/output data recorded.    LABS:  Today, I have reviewed all laboratory results up to this point in the patients current encounter and have incorporated these into the assessment/plan and care of this patient.  Recent Labs   Lab 6/29/2033  0529 6-30-2033  0520 7/1/2033  0557   WBC 8.9 7.5 8.9   HGB 8.2* 8.4* 9.0*   HCT 25.0* 25.8* 27.3*   PLT 342 351 388     Recent Labs   Lab June 29  0529 6/30/2033  0520 7/1/2033  0557   NAS 139 139 138   POTASS 3.0* 3.3* 3.6   CO2 25 25 26   BUN 14 8* 8*   CREATININE 0.42 0.39 0.47   GLUCOSE 99 88   CALCIUM 8.3 8.3 8.5       RADIOLOGY:  Today, I have reviewed all Radiology reports up to this point in the patients current encounter and have incorporated these into the assessment/plan and care of this patient.    7-1-2033  Dr Barona Victor DO'),\n",
       " ('KV',\n",
       "  'Fistula',\n",
       "  'nan',\n",
       "  241,\n",
       "  -1,\n",
       "  '* Decubitus ulcer of sacral region, unstageable (Pu-penn university)  Assessment & Plan - Edited by Dr. Holla Mae John at 2012/08/29  6:58 AM  72M with history of Parkinsons, DBS, scoliosis s/p major spinal surgery T9-pelvis (2016-07-06) with subsequent inability to walk presents with sepsis likely secondary to severe sacral decubitus ulcer.   CTAP: deep sacral decubitus ulcer, large abscess extending to sacrum and coccyx measuring 9.7 x 8.5 x 4.4 cm; small presacral fluid collection 4.4 x 1.7 cm; mild fecal impation    S/p debridement of sacral decubitus ulcer 8/20/2016    Cultures positive for E Faecalis   Fecal soiling through the sacral ulcer. No colo-atmospheric fistula appreciated   Laparoscopic diverting colostomy 8-27-2016  Foley removed 08-28-2016; voiding well    Plan:  Ileostomy soft diet  Pain control  PT/OT  Daily dressing changes with Dakins for the sacral wound  IV Unasyn  Wound nurse on consult for ostomy teaching, and sacral decubitus ulcer care  Lovenox, SCDs- DVT ppx  Saline lock IVF    Fecal impaction (university at penn)-resolved as of 08/23/24  Assessment & Plan - Edited by dr. salam mordrick at 08/21/2024  7:23 AM  Bowel regimen   Fleet enema x1        Hospital Day: 10    SUBJECTIVE:   Stable. No acute events over night. Pain is well controlled. Patient admits to minimal confusion. Patient denies nausea,vomiting. Ostomy with stool and gas.    PHYSICAL EXAMINATION:  Blood pressure 115/68, pulse 78, temperature 36.7 °C (98.1 °F), temperature source Oral, resp. rate 16, height 1.753 m (5\\' 9\"), weight 65.8 kg (145 lb), SpO2 93 %.    Head: Atraumatic, normocephalic  Ears: hearing intact  Eyes: EOM normal, no scleral icterus   Neck:  trachea midline; no LAD  Cardiovascular: Regular rate  Pulmonary/chest wall: respirations unlabored; equal rise and fall bilaterally  Gastrointestinal: soft, appropriately TTP, minimal distension,Ostomy- pink, edematous, stool and gas.   Back: 5 x 7 cm stage IV sacral decubitus ulcer with minimal fibrinous exudate  Extremities: no edema, bilateral LE spasity  Psychiatric-behavioral: mood/affect normal        Intake/Output Summary (Last 24 hours) at AUGUST 29 0658  Last data filed at 08-29-24 0600  Gross per 24 hour   Intake 700 ml   Output 200 ml   Net 500 ml     I/O last 3 completed shifts:  In: 2860 P.O.:360; I.V.:2400; IV Piggyback:120  Out: 2565 Urine:2390; Stool:150; Blood:25  I/O this shift:  In: 340 P.O.:340  Out: 200 Stool:200    LABS:  Today, I have reviewed all laboratory results up to this point in the patients current encounter and have incorporated these into the assessment/plan and care of this patient.  Recent Labs   Lab 8/27/2024  0548 8/28  0400 29 AUGUST 2024  0507   WBC 8.1 7.1 6.9   HGB 9.7* 9.0* 9.0*   HCT 30.6* 27.6* 27.9*   PLT 431 432 413     Recent Labs   Lab 8/27/2024  0548 8/28/2024  0400 8/29/2024  0507   NAS 135 138 139   POTASS 3.8 4.0 3.8   CO2 28 24 29   BUN 16 12 14   CREATININE 0.45 0.45 0.48   GLUCOSE 95   CALCIUM 8.9 9.0 9.1       RADIOLOGY:  Today, I have reviewed all Radiology reports up to this point in the patients current encounter and have incorporated these into the assessment/plan and care of this patient.    08/29/2024  holla, mae, dr.')]"
      ]
     },
     "execution_count": 186,
     "metadata": {},
     "output_type": "execute_result"
    }
   ],
   "source": [
    "deid_files['KV']['Fistula'][-5:]"
   ]
  },
  {
   "cell_type": "code",
   "execution_count": 191,
   "metadata": {},
   "outputs": [
    {
     "data": {
      "text/html": [
       "<div>\n",
       "<style scoped>\n",
       "    .dataframe tbody tr th:only-of-type {\n",
       "        vertical-align: middle;\n",
       "    }\n",
       "\n",
       "    .dataframe tbody tr th {\n",
       "        vertical-align: top;\n",
       "    }\n",
       "\n",
       "    .dataframe thead th {\n",
       "        text-align: right;\n",
       "    }\n",
       "</style>\n",
       "<table border=\"1\" class=\"dataframe\">\n",
       "  <thead>\n",
       "    <tr style=\"text-align: right;\">\n",
       "      <th></th>\n",
       "      <th>grader</th>\n",
       "      <th>toxicity</th>\n",
       "      <th>mrn</th>\n",
       "      <th>index</th>\n",
       "      <th>label</th>\n",
       "      <th>note_text</th>\n",
       "    </tr>\n",
       "  </thead>\n",
       "  <tbody>\n",
       "    <tr>\n",
       "      <th>0</th>\n",
       "      <td>KV</td>\n",
       "      <td>Fistula</td>\n",
       "      <td>nan</td>\n",
       "      <td>0</td>\n",
       "      <td>0</td>\n",
       "      <td>SURGICAL INTENSIVE CARE UNIT   PROGRESS NOTE  ...</td>\n",
       "    </tr>\n",
       "    <tr>\n",
       "      <th>1</th>\n",
       "      <td>KV</td>\n",
       "      <td>Fistula</td>\n",
       "      <td>nan</td>\n",
       "      <td>2</td>\n",
       "      <td>0</td>\n",
       "      <td>SURGICAL INTENSIVE CARE UNIT   PROGRESS NOTE  ...</td>\n",
       "    </tr>\n",
       "    <tr>\n",
       "      <th>2</th>\n",
       "      <td>KV</td>\n",
       "      <td>Fistula</td>\n",
       "      <td>nan</td>\n",
       "      <td>4</td>\n",
       "      <td>0</td>\n",
       "      <td>SURGICAL INTENSIVE CARE UNIT   PROGRESS NOTE  ...</td>\n",
       "    </tr>\n",
       "    <tr>\n",
       "      <th>3</th>\n",
       "      <td>KV</td>\n",
       "      <td>Fistula</td>\n",
       "      <td>nan</td>\n",
       "      <td>5</td>\n",
       "      <td>0</td>\n",
       "      <td>* Bowel perforation (CMS-hcc)  Assessment &amp; Pl...</td>\n",
       "    </tr>\n",
       "    <tr>\n",
       "      <th>4</th>\n",
       "      <td>KV</td>\n",
       "      <td>Fistula</td>\n",
       "      <td>nan</td>\n",
       "      <td>6</td>\n",
       "      <td>0</td>\n",
       "      <td>* Bowel perforation (CMS-hcc)  Assessment &amp; Pl...</td>\n",
       "    </tr>\n",
       "  </tbody>\n",
       "</table>\n",
       "</div>"
      ],
      "text/plain": [
       "  grader toxicity  mrn index label  \\\n",
       "0     KV  Fistula  nan     0     0   \n",
       "1     KV  Fistula  nan     2     0   \n",
       "2     KV  Fistula  nan     4     0   \n",
       "3     KV  Fistula  nan     5     0   \n",
       "4     KV  Fistula  nan     6     0   \n",
       "\n",
       "                                           note_text  \n",
       "0  SURGICAL INTENSIVE CARE UNIT   PROGRESS NOTE  ...  \n",
       "1  SURGICAL INTENSIVE CARE UNIT   PROGRESS NOTE  ...  \n",
       "2  SURGICAL INTENSIVE CARE UNIT   PROGRESS NOTE  ...  \n",
       "3  * Bowel perforation (CMS-hcc)  Assessment & Pl...  \n",
       "4  * Bowel perforation (CMS-hcc)  Assessment & Pl...  "
      ]
     },
     "execution_count": 191,
     "metadata": {},
     "output_type": "execute_result"
    }
   ],
   "source": [
    "deid_files_df = pd.DataFrame(columns=['grader', 'toxicity', 'mrn', 'index', 'label', 'note_text'])\n",
    "for grader in deid_files:\n",
    "    for toxicity in deid_files[grader]:\n",
    "        for grader, toxicity, mrn, index, label, note_text in deid_files[grader][toxicity]:\n",
    "            #concat the dataframes\n",
    "            deid_files_df = pd.concat([deid_files_df, pd.DataFrame([[grader, toxicity, mrn, index, label, note_text]], columns=['grader', 'toxicity', 'mrn', 'index', 'label', 'note_text'])])\n",
    "deid_files_df = deid_files_df.reset_index(drop=True)\n",
    "deid_files_df.head()"
   ]
  },
  {
   "cell_type": "code",
   "execution_count": 192,
   "metadata": {},
   "outputs": [
    {
     "name": "stdout",
     "output_type": "stream",
     "text": [
      "saved\n"
     ]
    }
   ],
   "source": [
    "#save the deid_files_df as a pickle\n",
    "deid_files_df.to_pickle('data/single_graded/all_single_graded_notes_deidentified_labeled')\n",
    "print('saved')"
   ]
  },
  {
   "cell_type": "code",
   "execution_count": null,
   "metadata": {},
   "outputs": [],
   "source": []
  }
 ],
 "metadata": {
  "kernelspec": {
   "display_name": "Python 3",
   "language": "python",
   "name": "python3"
  },
  "language_info": {
   "codemirror_mode": {
    "name": "ipython",
    "version": 3
   },
   "file_extension": ".py",
   "mimetype": "text/x-python",
   "name": "python",
   "nbconvert_exporter": "python",
   "pygments_lexer": "ipython3",
   "version": "3.10.12"
  },
  "orig_nbformat": 4
 },
 "nbformat": 4,
 "nbformat_minor": 2
}
